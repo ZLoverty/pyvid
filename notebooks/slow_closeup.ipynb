{
 "cells": [
  {
   "cell_type": "markdown",
   "id": "f4d3479d",
   "metadata": {},
   "source": [
    "# Slow close-up\n",
    "\n",
    "Although our playback speed is slow already (0.01X), the bouncing event still looks very fast. To be able to see the bouncing very clearly, it is desired that we do a slow close-up at the bouncing event, where fps is dramatically increased and the camera is moved close to the bubble.\n",
    "\n",
    "In this notebook, we implement the functions necessary for this purpose. First, we implement a time mesh generator that can generate non-uniform time mesh according to a set of FPS keyframes. Then, we develop a `scene` class that simplifies the animation script."
   ]
  },
  {
   "cell_type": "markdown",
   "id": "ad014ab3",
   "metadata": {},
   "source": [
    "## 0 Packages"
   ]
  },
  {
   "cell_type": "code",
   "execution_count": 1,
   "id": "5008270d",
   "metadata": {},
   "outputs": [],
   "source": [
    "import numpy as np\n",
    "import matplotlib.pyplot as plt\n",
    "import pyvista as pv\n",
    "import matplotlib\n",
    "matplotlib.rcParams[\"font.family\"] = \"STIXGeneral\"\n",
    "matplotlib.rcParams['mathtext.fontset'] = 'stix'\n",
    "matplotlib.rcParams[\"xtick.direction\"] = \"in\"\n",
    "matplotlib.rcParams[\"ytick.direction\"] = \"in\"\n",
    "plt.rcParams['xtick.major.size'] = 2  # Length of major ticks\n",
    "plt.rcParams['ytick.major.size'] = 2  # Length of major ticks\n",
    "plt.rcParams['xtick.minor.size'] = 1  # Length of minor ticks\n",
    "plt.rcParams['ytick.minor.size'] = 1  # Length of minor ticks\n",
    "import time\n",
    "from scipy.interpolate import CubicSpline, interp1d\n",
    "from bubble_bouncing import TimeMesh"
   ]
  },
  {
   "cell_type": "markdown",
   "id": "c2dcbad7",
   "metadata": {},
   "source": [
    "## 1 Slow motion\n",
    "\n",
    "We implement a `TimeMesh` class to interpolate keyframes in fps. Below, we test the class and meantime provide an example of usage. "
   ]
  },
  {
   "cell_type": "code",
   "execution_count": 12,
   "id": "68fa2108",
   "metadata": {},
   "outputs": [
    {
     "data": {
      "text/plain": [
       "(np.float64(-0.0010005773878738313),\n",
       " np.float64(0.021012125145350457),\n",
       " np.float64(-0.05),\n",
       " np.float64(1.05))"
      ]
     },
     "execution_count": 12,
     "metadata": {},
     "output_type": "execute_result"
    },
    {
     "data": {
      "image/png": "[encoded data removed]",
      "text/plain": [
       "<Figure size 1050x150 with 1 Axes>"
      ]
     },
     "metadata": {},
     "output_type": "display_data"
    }
   ],
   "source": [
    "tm = TimeMesh(0, 0.02, 3000)\n",
    "keyframes = [\n",
    "    (0.005, 3000),\n",
    "    (0.01, 10000),\n",
    "    (0.015, 3000)]\n",
    "tm.insert_keyframes(keyframes)\n",
    "uniform = tm.uniform()\n",
    "nonuniform = tm.generate(interpolate=\"linear\")\n",
    "\n",
    "plt.figure(figsize=(3.5, .5), dpi=300)\n",
    "plt.plot(uniform, np.zeros_like(uniform), \"o\", markersize=1)\n",
    "plt.plot(nonuniform, np.ones_like(nonuniform), \"o\", markersize=1)\n",
    "plt.axis(\"off\")"
   ]
  },
  {
   "cell_type": "markdown",
   "id": "2cfae68c",
   "metadata": {},
   "source": [
    "## 2 The `Scene` class"
   ]
  },
  {
   "cell_type": "code",
   "execution_count": 1,
   "id": "de7557d4",
   "metadata": {},
   "outputs": [],
   "source": [
    "from bubble_bouncing import Scene, Bubble, TimeMesh\n",
    "import numpy as np\n",
    "import pyvista as pv\n",
    "from pathlib import Path\n",
    "import h5py\n",
    "import yaml"
   ]
  },
  {
   "cell_type": "code",
   "execution_count": 2,
   "id": "59e0d644",
   "metadata": {},
   "outputs": [],
   "source": [
    "scene = Scene()"
   ]
  },
  {
   "cell_type": "code",
   "execution_count": 3,
   "id": "6e789895",
   "metadata": {},
   "outputs": [],
   "source": [
    "folder = Path(\"/Users/zhengyang/Documents/.bcsim_test\").expanduser().resolve()\n",
    "h5file = folder / \"results\" / \"data.h5\"\n",
    "params_file = folder / \"params.yaml\""
   ]
  },
  {
   "cell_type": "markdown",
   "id": "d85c9867",
   "metadata": {},
   "source": [
    "### 2.1 Moving sphere"
   ]
  },
  {
   "cell_type": "code",
   "execution_count": 4,
   "id": "221d8426",
   "metadata": {},
   "outputs": [],
   "source": [
    "data = {}\n",
    "with h5py.File(h5file, \"r\") as f:\n",
    "    for kw in [\"t\", \"x\"]:\n",
    "        data[kw] = f[kw][:]\n",
    "with open(params_file, \"r\") as f:\n",
    "    params = yaml.safe_load(f)\n",
    "sphere = scene.Sphere(data, radius=params[\"R\"])"
   ]
  },
  {
   "cell_type": "code",
   "execution_count": null,
   "id": "848ba45c",
   "metadata": {},
   "outputs": [
    {
     "name": "stdout",
     "output_type": "stream",
     "text": [
      "Time is not set. Infer from actor data.\n"
     ]
    },
    {
     "name": "stdout",
     "output_type": "stream",
     "text": [
      "Animation complete (595/595)\n"
     ]
    }
   ],
   "source": [
    "scene.play(fps=30, playback=0.01, t_range=[0.0, 1])"
   ]
  },
  {
   "cell_type": "markdown",
   "id": "7296617e",
   "metadata": {},
   "source": [
    "### 2.2 Moving glyph"
   ]
  },
  {
   "cell_type": "code",
   "execution_count": 5,
   "id": "aa2b3657",
   "metadata": {},
   "outputs": [],
   "source": [
    "with h5py.File(h5file, \"r\") as f:\n",
    "    t = f[\"t\"][:]\n",
    "    x_im = f[\"x_im\"][:]\n",
    "    V_im = f[\"V_im\"][:]\n",
    "    x_re = f[\"x\"][:]\n",
    "    V_re = f[\"V\"][:]"
   ]
  },
  {
   "cell_type": "code",
   "execution_count": 6,
   "id": "b6b63d70",
   "metadata": {},
   "outputs": [],
   "source": [
    "x_list = []\n",
    "v_list = []\n",
    "im = Bubble(a=params[\"R\"])\n",
    "re = Bubble(a=params[\"R\"])\n",
    "for i in range(len(t)):\n",
    "    im.set_pos(x_im[i])\n",
    "    im.set_velocity(V_im[i])\n",
    "    re.set_pos(x_re[i])\n",
    "    re.set_velocity(V_re[i])\n",
    "    x = re.pos+re.surf_coords\n",
    "    v = im.Oseen_wake(x)\n",
    "    x_list.append(x)\n",
    "    v_list.append(v)"
   ]
  },
  {
   "cell_type": "code",
   "execution_count": 7,
   "id": "f1d5868e",
   "metadata": {},
   "outputs": [],
   "source": [
    "data = {\"t\": t, \"x\": np.stack(x_list), \"v\": np.stack(v_list)}\n",
    "glyph = scene.Glyph(data, \"flow\")"
   ]
  },
  {
   "cell_type": "code",
   "execution_count": 9,
   "id": "754d0f76",
   "metadata": {},
   "outputs": [
    {
     "name": "stdout",
     "output_type": "stream",
     "text": [
      "WARNING: Time sequence is not set, infer from actor data: 0.0000 - 0.1991. Use `set_time()` to set custom time sequence.\n"
     ]
    },
    {
     "name": "stdout",
     "output_type": "stream",
     "text": [
      "Animation complete (596/596).\n"
     ]
    }
   ],
   "source": [
    "scene.play(playback=0.01)"
   ]
  },
  {
   "cell_type": "markdown",
   "id": "ad03afc2",
   "metadata": {},
   "source": [
    "### 2.3 Box: for the stationary surface "
   ]
  },
  {
   "cell_type": "code",
   "execution_count": 8,
   "id": "1348422b",
   "metadata": {},
   "outputs": [],
   "source": [
    "xlim=(-4e-2, 4e-2)\n",
    "ylim = (-1e-3, 0)\n",
    "zlim = (-0.01, 0.01)\n",
    "t = np.linspace(0, 1, 50)\n",
    "x = np.zeros((50, 3))\n",
    "surface = scene.Box({\"t\": t, \"x\": x}, bounds=(*xlim, *ylim, *zlim))"
   ]
  },
  {
   "cell_type": "markdown",
   "id": "ef0071b7",
   "metadata": {},
   "source": [
    "### 2.4 Set time sequence"
   ]
  },
  {
   "cell_type": "code",
   "execution_count": 9,
   "id": "fc046140",
   "metadata": {},
   "outputs": [],
   "source": [
    "with h5py.File(h5file, \"r\") as f:\n",
    "    t = f[\"t\"][:]\n",
    "    x_im = f[\"x_im\"][:]\n",
    "t_bounce = t[np.isnan(x_im[:, 0]).argmin()]\n",
    "tm = TimeMesh(t[0], t[-1], 3000)\n",
    "window = 0.01\n",
    "keyframes = [\n",
    "    (t_bounce - window / 2, 3000),\n",
    "    (t_bounce, 30000),\n",
    "    (t_bounce + window / 2, 3000)\n",
    "]\n",
    "tm.insert_keyframes(keyframes)"
   ]
  },
  {
   "cell_type": "code",
   "execution_count": 10,
   "id": "6650621d",
   "metadata": {},
   "outputs": [],
   "source": [
    "t_ = tm.generate(\"linear\")"
   ]
  },
  {
   "cell_type": "code",
   "execution_count": 11,
   "id": "511a54a5",
   "metadata": {},
   "outputs": [],
   "source": [
    "scene.set_time(t_)"
   ]
  },
  {
   "cell_type": "markdown",
   "id": "15c12184",
   "metadata": {},
   "source": [
    "### 2.5 Camera motion"
   ]
  },
  {
   "cell_type": "code",
   "execution_count": 16,
   "id": "37571a84",
   "metadata": {},
   "outputs": [],
   "source": [
    "scene.camera_position = \"yx\""
   ]
  },
  {
   "cell_type": "code",
   "execution_count": 17,
   "id": "9647e23a",
   "metadata": {},
   "outputs": [],
   "source": [
    "theta_rad = params[\"theta\"] / 180 * np.pi\n",
    "up = np.array([np.sin(theta_rad), -np.cos(theta_rad), 0])"
   ]
  },
  {
   "cell_type": "code",
   "execution_count": 19,
   "id": "71d048f6",
   "metadata": {},
   "outputs": [],
   "source": [
    "p = np.zeros((3, 3))\n",
    "p[0, :] = scene.camera_position[0]\n",
    "p[1, :] = scene.camera_position[1]\n",
    "p[2, :] = up\n",
    "scene.camera_position = p"
   ]
  },
  {
   "cell_type": "code",
   "execution_count": 15,
   "id": "ac3541e5",
   "metadata": {},
   "outputs": [],
   "source": [
    "scene.show_axes()"
   ]
  },
  {
   "cell_type": "code",
   "execution_count": 27,
   "id": "56e08768",
   "metadata": {},
   "outputs": [
    {
     "name": "stdout",
     "output_type": "stream",
     "text": [
      "t: 6.9 s, step: 207/733\r"
     ]
    }
   ],
   "source": [
    "scene.play(playback=0.01)"
   ]
  },
  {
   "cell_type": "code",
   "execution_count": 20,
   "id": "31421d8d",
   "metadata": {},
   "outputs": [],
   "source": [
    "cp_far = np.asarray(list(scene.camera_position))"
   ]
  },
  {
   "cell_type": "code",
   "execution_count": 21,
   "id": "f06fb5f1",
   "metadata": {},
   "outputs": [
    {
     "data": {
      "text/plain": [
       "array([[-5.41173497e-06,  2.89114193e-04, -2.87610813e-02],\n",
       "       [-5.41173497e-06,  2.89114193e-04,  0.00000000e+00],\n",
       "       [ 1.74524064e-02, -9.99847695e-01,  0.00000000e+00]])"
      ]
     },
     "execution_count": 21,
     "metadata": {},
     "output_type": "execute_result"
    }
   ],
   "source": [
    "cp_far"
   ]
  },
  {
   "cell_type": "code",
   "execution_count": 22,
   "id": "70067323",
   "metadata": {},
   "outputs": [],
   "source": [
    "cp_close = np.asarray(list(scene.camera_position))"
   ]
  },
  {
   "cell_type": "code",
   "execution_count": 23,
   "id": "dc52bdba",
   "metadata": {},
   "outputs": [
    {
     "data": {
      "text/plain": [
       "array([[-5.41173497e-06,  2.89114193e-04, -1.10886419e-02],\n",
       "       [-5.41173497e-06,  2.89114193e-04,  0.00000000e+00],\n",
       "       [ 1.74524064e-02, -9.99847695e-01,  0.00000000e+00]])"
      ]
     },
     "execution_count": 23,
     "metadata": {},
     "output_type": "execute_result"
    }
   ],
   "source": [
    "cp_close"
   ]
  },
  {
   "cell_type": "code",
   "execution_count": 39,
   "id": "f12670bd",
   "metadata": {},
   "outputs": [],
   "source": [
    "keyframes = [\n",
    "    (0, cp_far),\n",
    "    (t_bounce - window / 2, cp_far),\n",
    "    (t_bounce, cp_close),\n",
    "    (t_bounce + window / 2, cp_far),\n",
    "    (scene.t[-1], cp_far)\n",
    "]"
   ]
  },
  {
   "cell_type": "code",
   "execution_count": 35,
   "id": "9f6f9ab7",
   "metadata": {},
   "outputs": [
    {
     "data": {
      "text/plain": [
       "array([[ 0.00000000e+00,  7.39697485e-05, -3.46810739e-02],\n",
       "       [ 0.00000000e+00,  7.39697485e-05,  0.00000000e+00],\n",
       "       [ 1.74524064e-02, -9.99847695e-01,  0.00000000e+00]])"
      ]
     },
     "execution_count": 35,
     "metadata": {},
     "output_type": "execute_result"
    }
   ],
   "source": [
    "scene.set_camera_keyframes()"
   ]
  },
  {
   "cell_type": "code",
   "execution_count": 52,
   "id": "6b50d179",
   "metadata": {},
   "outputs": [],
   "source": [
    "t = np.asarray([float(t_) for t_, _ in keyframes])\n",
    "cp = np.stack([cp_ for _, cp_ in keyframes])"
   ]
  },
  {
   "cell_type": "code",
   "execution_count": 54,
   "id": "5b6883b0",
   "metadata": {},
   "outputs": [],
   "source": [
    "from scipy.interpolate import interp1d\n",
    "f = interp1d(t, cp, axis=0)"
   ]
  },
  {
   "cell_type": "markdown",
   "id": "7bfb94ba",
   "metadata": {},
   "source": [
    "### 2.6 All together"
   ]
  },
  {
   "cell_type": "code",
   "execution_count": 1,
   "id": "1fbf08e7",
   "metadata": {},
   "outputs": [],
   "source": [
    "# from bubble_bouncing import Scene, Bubble, TimeMesh\n",
    "from pyvid import Scene\n",
    "import numpy as np\n",
    "import pyvista as pv\n",
    "from pathlib import Path\n",
    "# import h5py\n",
    "# import yaml\n",
    "\n",
    "scene = Scene()"
   ]
  },
  {
   "cell_type": "code",
   "execution_count": 2,
   "id": "ad2ed501",
   "metadata": {},
   "outputs": [],
   "source": [
    "scene.clear_all()\n",
    "folder = Path(\"/Users/zhengyang/Documents/.bcsim_test\").expanduser().resolve()\n",
    "h5file = folder / \"results\" / \"data.h5\"\n",
    "params_file = folder / \"params.yaml\"\n",
    "\n",
    "# add bubble\n",
    "data = {}\n",
    "with h5py.File(h5file, \"r\") as f:\n",
    "    t = f[\"t\"][:]\n",
    "    x = f[\"x\"][:]\n",
    "with open(params_file, \"r\") as f:\n",
    "    params = yaml.safe_load(f)\n",
    "sphere = scene.Sphere({\"t\": t, \"x\": x}, radius=params[\"R\"])\n",
    "\n",
    "# add surface\n",
    "xlim=(-4e-2, 4e-2)\n",
    "ylim = (-1e-3, 0)\n",
    "zlim = (-0.01, 0.01)\n",
    "x = np.zeros_like(x)\n",
    "surface = scene.Box({\"t\": t, \"x\": x}, bounds=(*xlim, *ylim, *zlim))\n",
    "\n",
    "# add glyph\n",
    "with h5py.File(h5file, \"r\") as f:\n",
    "    t = f[\"t\"][:]\n",
    "    x_im = f[\"x_im\"][:]\n",
    "    V_im = f[\"V_im\"][:]\n",
    "    x_re = f[\"x\"][:]\n",
    "    V_re = f[\"V\"][:]\n",
    "\n",
    "x_list = []\n",
    "v_list = []\n",
    "im = Bubble(a=params[\"R\"])\n",
    "re = Bubble(a=params[\"R\"])\n",
    "for i in range(len(t)):\n",
    "    im.set_pos(x_im[i])\n",
    "    im.set_velocity(V_im[i])\n",
    "    re.set_pos(x_re[i])\n",
    "    re.set_velocity(V_re[i])\n",
    "    x = re.pos+re.surf_coords\n",
    "    v = im.Oseen_wake(x)\n",
    "    x_list.append(x)\n",
    "    v_list.append(v)\n",
    "\n",
    "data = {\"t\": t, \"x\": np.stack(x_list), \"v\": np.stack(v_list)}\n",
    "glyph = scene.Glyph(data, \"flow\", factor=0.1, clim=[0, 1e-4])\n",
    "\n",
    "# set time sequence\n",
    "with h5py.File(h5file, \"r\") as f:\n",
    "    x_im = f[\"x_im\"][:]\n",
    "t_bounce = float(t[np.isnan(x_im[:, 0]).argmin()])\n",
    "tm = TimeMesh(t[0], t[-1], 3000)\n",
    "window = 0.01\n",
    "keyframes = [\n",
    "    (t_bounce - window / 2, 3000),\n",
    "    (t_bounce, 30000),\n",
    "    (t_bounce + window / 2, 3000)\n",
    "]\n",
    "tm.insert_keyframes(keyframes)\n",
    "t_ = tm.generate(\"linear\")\n",
    "scene.set_time(t_)\n",
    "\n",
    "## set camera keyframes\n",
    "cp_far = np.array([\n",
    "    [-5.41173497e-06,  2.89114193e-04, -2.87610813e-02],\n",
    "    [-5.41173497e-06,  2.89114193e-04,  0.00000000e+00],\n",
    "    [ 1.74524064e-02, -9.99847695e-01,  0.00000000e+00]\n",
    "])\n",
    "cp_close = np.array([\n",
    "    [-5.41173497e-06,  2.89114193e-04, -1.10886419e-02],\n",
    "    [-5.41173497e-06,  2.89114193e-04,  0.00000000e+00],\n",
    "    [ 1.74524064e-02, -9.99847695e-01,  0.00000000e+00]\n",
    "])\n",
    "\n",
    "keyframes = [\n",
    "    (0, cp_far),\n",
    "    (t_bounce - window / 2, cp_far),\n",
    "    (t_bounce, cp_far),\n",
    "    (t_bounce + window / 2, cp_far),\n",
    "    (scene.t[-1], cp_far)\n",
    "]\n",
    "scene.set_camera_keyframes(keyframes)"
   ]
  },
  {
   "cell_type": "code",
   "execution_count": 3,
   "id": "812ccf4b",
   "metadata": {},
   "outputs": [
    {
     "name": "stdout",
     "output_type": "stream",
     "text": [
      "Animation complete (194/194).\n"
     ]
    }
   ],
   "source": [
    "scene.play(t_range=[t_bounce-window, t_bounce+window], record=True, save_folder=\"~/Documents/test/visualization\")"
   ]
  }
 ],
 "metadata": {
  "kernelspec": {
   "display_name": "pyvid",
   "language": "python",
   "name": "python3"
  },
  "language_info": {
   "codemirror_mode": {
    "name": "ipython",
    "version": 3
   },
   "file_extension": ".py",
   "mimetype": "text/x-python",
   "name": "python",
   "nbconvert_exporter": "python",
   "pygments_lexer": "ipython3",
   "version": "3.12.11"
  }
 },
 "nbformat": 4,
 "nbformat_minor": 5
}
